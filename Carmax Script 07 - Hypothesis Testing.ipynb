{
 "cells": [
  {
   "cell_type": "markdown",
   "metadata": {},
   "source": [
    "# **Hypothesis Testing**\n",
    "\n",
    "### **Question**: How much does the *sample mean* of purchase prices differ from the *population mean* of purchase prices? If there is a difference, is it significant? If so, how significant is it?  \n",
    " \n",
    "### **Null Hypothesis**: The sample mean for purchase prices is significantly higher than the population mean for purchase prices.\n",
    "\n",
    "### **Alternative Hypothesis**: The sample mean for purchase prices is different from the population mean for purchase prices.\n",
    "### ----> *h1*: Sample mean is greater than population mean.\n",
    "### ----> *h2*: Sample mean is greater than OR less than population mean.\n",
    "### ----> *h3*: Sample mean is less than population mean. "
   ]
  },
  {
   "cell_type": "code",
   "execution_count": 105,
   "metadata": {},
   "outputs": [],
   "source": [
    "import numpy as np \n",
    "import pandas as pd \n",
    "import seaborn as sns\n",
    "import matplotlib.pyplot as plt "
   ]
  },
  {
   "cell_type": "code",
   "execution_count": 106,
   "metadata": {},
   "outputs": [
    {
     "data": {
      "text/html": [
       "<div>\n",
       "<style scoped>\n",
       "    .dataframe tbody tr th:only-of-type {\n",
       "        vertical-align: middle;\n",
       "    }\n",
       "\n",
       "    .dataframe tbody tr th {\n",
       "        vertical-align: top;\n",
       "    }\n",
       "\n",
       "    .dataframe thead th {\n",
       "        text-align: right;\n",
       "    }\n",
       "</style>\n",
       "<table border=\"1\" class=\"dataframe\">\n",
       "  <thead>\n",
       "    <tr style=\"text-align: right;\">\n",
       "      <th></th>\n",
       "      <th>purchase_price</th>\n",
       "    </tr>\n",
       "  </thead>\n",
       "  <tbody>\n",
       "    <tr>\n",
       "      <th>0</th>\n",
       "      <td>17501</td>\n",
       "    </tr>\n",
       "    <tr>\n",
       "      <th>1</th>\n",
       "      <td>17501</td>\n",
       "    </tr>\n",
       "    <tr>\n",
       "      <th>2</th>\n",
       "      <td>27501</td>\n",
       "    </tr>\n",
       "    <tr>\n",
       "      <th>3</th>\n",
       "      <td>12501</td>\n",
       "    </tr>\n",
       "    <tr>\n",
       "      <th>4</th>\n",
       "      <td>17501</td>\n",
       "    </tr>\n",
       "    <tr>\n",
       "      <th>...</th>\n",
       "      <td>...</td>\n",
       "    </tr>\n",
       "    <tr>\n",
       "      <th>355869</th>\n",
       "      <td>17501</td>\n",
       "    </tr>\n",
       "    <tr>\n",
       "      <th>355870</th>\n",
       "      <td>12501</td>\n",
       "    </tr>\n",
       "    <tr>\n",
       "      <th>355871</th>\n",
       "      <td>17501</td>\n",
       "    </tr>\n",
       "    <tr>\n",
       "      <th>355872</th>\n",
       "      <td>12501</td>\n",
       "    </tr>\n",
       "    <tr>\n",
       "      <th>355873</th>\n",
       "      <td>17501</td>\n",
       "    </tr>\n",
       "  </tbody>\n",
       "</table>\n",
       "<p>355874 rows × 1 columns</p>\n",
       "</div>"
      ],
      "text/plain": [
       "        purchase_price\n",
       "0                17501\n",
       "1                17501\n",
       "2                27501\n",
       "3                12501\n",
       "4                17501\n",
       "...                ...\n",
       "355869           17501\n",
       "355870           12501\n",
       "355871           17501\n",
       "355872           12501\n",
       "355873           17501\n",
       "\n",
       "[355874 rows x 1 columns]"
      ]
     },
     "execution_count": 106,
     "metadata": {},
     "output_type": "execute_result"
    }
   ],
   "source": [
    "data = pd.read_csv(\"Carmax - Main (Modified).csv\", index_col=0)\n",
    "df = data.copy()\n",
    "test_df = df.loc[0:, [\"purchase_price\"]]\n",
    "test_df "
   ]
  },
  {
   "cell_type": "code",
   "execution_count": 107,
   "metadata": {},
   "outputs": [
    {
     "data": {
      "text/plain": [
       "19241"
      ]
     },
     "execution_count": 107,
     "metadata": {},
     "output_type": "execute_result"
    }
   ],
   "source": [
    "pop_mean_price = round(test_df[\"purchase_price\"].mean()) # population mean for purchase prices\n",
    "pop_mean_price "
   ]
  },
  {
   "cell_type": "code",
   "execution_count": 108,
   "metadata": {},
   "outputs": [
    {
     "data": {
      "image/png": "[encoded data removed]",
      "text/plain": [
       "<Figure size 432x288 with 1 Axes>"
      ]
     },
     "metadata": {
      "needs_background": "light"
     },
     "output_type": "display_data"
    }
   ],
   "source": [
    "sns.histplot(test_df, stat='count')\n",
    "plt.axvline(pop_mean_price,color='r',linestyle='dashed')\n",
    "plt.title(f\"Population Mean: {pop_mean_price}\")\n",
    "plt.xlabel(\"Purchase Price\")\n",
    "plt.show() "
   ]
  },
  {
   "cell_type": "code",
   "execution_count": 109,
   "metadata": {},
   "outputs": [
    {
     "data": {
      "text/html": [
       "<div>\n",
       "<style scoped>\n",
       "    .dataframe tbody tr th:only-of-type {\n",
       "        vertical-align: middle;\n",
       "    }\n",
       "\n",
       "    .dataframe tbody tr th {\n",
       "        vertical-align: top;\n",
       "    }\n",
       "\n",
       "    .dataframe thead th {\n",
       "        text-align: right;\n",
       "    }\n",
       "</style>\n",
       "<table border=\"1\" class=\"dataframe\">\n",
       "  <thead>\n",
       "    <tr style=\"text-align: right;\">\n",
       "      <th></th>\n",
       "      <th>purchase_price</th>\n",
       "    </tr>\n",
       "  </thead>\n",
       "  <tbody>\n",
       "    <tr>\n",
       "      <th>17551</th>\n",
       "      <td>12501</td>\n",
       "    </tr>\n",
       "    <tr>\n",
       "      <th>61628</th>\n",
       "      <td>12501</td>\n",
       "    </tr>\n",
       "    <tr>\n",
       "      <th>69352</th>\n",
       "      <td>12501</td>\n",
       "    </tr>\n",
       "    <tr>\n",
       "      <th>21631</th>\n",
       "      <td>12501</td>\n",
       "    </tr>\n",
       "    <tr>\n",
       "      <th>273999</th>\n",
       "      <td>12501</td>\n",
       "    </tr>\n",
       "    <tr>\n",
       "      <th>...</th>\n",
       "      <td>...</td>\n",
       "    </tr>\n",
       "    <tr>\n",
       "      <th>115</th>\n",
       "      <td>22501</td>\n",
       "    </tr>\n",
       "    <tr>\n",
       "      <th>25282</th>\n",
       "      <td>22501</td>\n",
       "    </tr>\n",
       "    <tr>\n",
       "      <th>223373</th>\n",
       "      <td>22501</td>\n",
       "    </tr>\n",
       "    <tr>\n",
       "      <th>34771</th>\n",
       "      <td>17501</td>\n",
       "    </tr>\n",
       "    <tr>\n",
       "      <th>225366</th>\n",
       "      <td>12501</td>\n",
       "    </tr>\n",
       "  </tbody>\n",
       "</table>\n",
       "<p>350 rows × 1 columns</p>\n",
       "</div>"
      ],
      "text/plain": [
       "        purchase_price\n",
       "17551            12501\n",
       "61628            12501\n",
       "69352            12501\n",
       "21631            12501\n",
       "273999           12501\n",
       "...                ...\n",
       "115              22501\n",
       "25282            22501\n",
       "223373           22501\n",
       "34771            17501\n",
       "225366           12501\n",
       "\n",
       "[350 rows x 1 columns]"
      ]
     },
     "execution_count": 109,
     "metadata": {},
     "output_type": "execute_result"
    }
   ],
   "source": [
    "rand_samps = test_df['purchase_price'].sample(350)\n",
    "rand_samps_df = pd.DataFrame(data=rand_samps) \n",
    "rand_samps_df "
   ]
  },
  {
   "cell_type": "code",
   "execution_count": 110,
   "metadata": {},
   "outputs": [
    {
     "data": {
      "text/plain": [
       "18930"
      ]
     },
     "execution_count": 110,
     "metadata": {},
     "output_type": "execute_result"
    }
   ],
   "source": [
    "samp_mean_price = round(rand_samps_df[\"purchase_price\"].mean())\n",
    "samp_mean_price "
   ]
  },
  {
   "cell_type": "code",
   "execution_count": 111,
   "metadata": {},
   "outputs": [
    {
     "data": {
      "image/png": "[encoded data removed]",
      "text/plain": [
       "<Figure size 432x288 with 1 Axes>"
      ]
     },
     "metadata": {
      "needs_background": "light"
     },
     "output_type": "display_data"
    }
   ],
   "source": [
    "sns.histplot(rand_samps_df, stat='count')\n",
    "plt.axvline(samp_mean_price,color='r',linestyle='dashed')\n",
    "plt.title(F\"Sample Mean: {samp_mean_price}\")\n",
    "plt.ylabel(\"Frequency\")\n",
    "plt.xlabel(\"Sample Purchase Price\")\n",
    "plt.show() "
   ]
  },
  {
   "cell_type": "code",
   "execution_count": 112,
   "metadata": {},
   "outputs": [
    {
     "data": {
      "image/png": "[encoded data removed]",
      "text/plain": [
       "<Figure size 432x288 with 1 Axes>"
      ]
     },
     "metadata": {
      "needs_background": "light"
     },
     "output_type": "display_data"
    }
   ],
   "source": [
    "sns.histplot(rand_samps_df, stat='count')\n",
    "plt.axvline(samp_mean_price,color='r',linestyle='dashed')\n",
    "plt.axvline(pop_mean_price, color='b', linestyle='dashed')\n",
    "plt.title(\"Null Distribution\")\n",
    "plt.ylabel(\"Frequency\")\n",
    "plt.xlabel(\"Sample Purchase Price\")\n",
    "plt.show() "
   ]
  },
  {
   "cell_type": "code",
   "execution_count": 113,
   "metadata": {},
   "outputs": [
    {
     "data": {
      "image/png": "[encoded data removed]",
      "text/plain": [
       "<Figure size 432x288 with 1 Axes>"
      ]
     },
     "metadata": {
      "needs_background": "light"
     },
     "output_type": "display_data"
    }
   ],
   "source": [
    "plt.hist(test_df, range=(0, 80000), bins=8,  edgecolor='black')\n",
    "plt.title(\"Null Distribution - Population\")\n",
    "plt.xlabel(\"Purchase Price\")\n",
    "plt.ylabel(\"Frequency\")\n",
    "plt.axvline(pop_mean_price, color='r', linestyle='solid', linewidth=3, label=\"Pop Mean\")\n",
    "plt.axvline(samp_mean_price, color='y', linestyle='dotted', linewidth=3, label=\"Samp Mean\")\n",
    "plt.legend()\n",
    "\n",
    "plt.show() "
   ]
  },
  {
   "cell_type": "code",
   "execution_count": 114,
   "metadata": {},
   "outputs": [
    {
     "data": {
      "image/png": "[encoded data removed]",
      "text/plain": [
       "<Figure size 432x288 with 1 Axes>"
      ]
     },
     "metadata": {
      "needs_background": "light"
     },
     "output_type": "display_data"
    }
   ],
   "source": [
    "plt.hist(rand_samps_df, range=(0, 80000), bins=8,  edgecolor='black')\n",
    "plt.title(\"Null Distribution - Sample\")\n",
    "plt.xlabel(\"Sample Purchase Price\")\n",
    "plt.ylabel(\"Frequency\")\n",
    "plt.axvline(pop_mean_price, color='r', linestyle='solid', linewidth=3, label=\"Pop Mean\")\n",
    "plt.axvline(samp_mean_price, color='y', linestyle='dotted', linewidth=3, label=\"Samp Mean\")\n",
    "plt.legend()\n",
    "\n",
    "plt.show() "
   ]
  },
  {
   "cell_type": "code",
   "execution_count": 115,
   "metadata": {},
   "outputs": [
    {
     "name": "stdout",
     "output_type": "stream",
     "text": [
      "[0.44300616]\n"
     ]
    }
   ],
   "source": [
    "from scipy.stats import ttest_1samp\n",
    "\n",
    "tstat, pval = ttest_1samp(rand_samps_df, pop_mean_price)\n",
    "print(pval)"
   ]
  }
 ],
 "metadata": {
  "interpreter": {
   "hash": "270e48d7d833aa9f6e241cd7baab00f55729dc9b87acb79557571c94ce8b6154"
  },
  "kernelspec": {
   "display_name": "Python 3.8.5 64-bit ('base': conda)",
   "language": "python",
   "name": "python3"
  },
  "language_info": {
   "codemirror_mode": {
    "name": "ipython",
    "version": 3
   },
   "file_extension": ".py",
   "mimetype": "text/x-python",
   "name": "python",
   "nbconvert_exporter": "python",
   "pygments_lexer": "ipython3",
   "version": "3.8.5"
  },
  "orig_nbformat": 4
 },
 "nbformat": 4,
 "nbformat_minor": 2
}
