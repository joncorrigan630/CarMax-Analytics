{
 "cells": [
  {
   "cell_type": "markdown",
   "metadata": {},
   "source": [
    "# **Hypothesis Testing - Part 2.**"
   ]
  },
  {
   "cell_type": "code",
   "execution_count": 10,
   "metadata": {},
   "outputs": [],
   "source": [
    "import numpy as np \n",
    "import pandas as pd \n",
    "import seaborn as sns\n",
    "import matplotlib.pyplot as plt "
   ]
  },
  {
   "cell_type": "code",
   "execution_count": 11,
   "metadata": {},
   "outputs": [
    {
     "data": {
      "text/html": [
       "<div>\n",
       "<style scoped>\n",
       "    .dataframe tbody tr th:only-of-type {\n",
       "        vertical-align: middle;\n",
       "    }\n",
       "\n",
       "    .dataframe tbody tr th {\n",
       "        vertical-align: top;\n",
       "    }\n",
       "\n",
       "    .dataframe thead th {\n",
       "        text-align: right;\n",
       "    }\n",
       "</style>\n",
       "<table border=\"1\" class=\"dataframe\">\n",
       "  <thead>\n",
       "    <tr style=\"text-align: right;\">\n",
       "      <th></th>\n",
       "      <th>customer_gender</th>\n",
       "    </tr>\n",
       "  </thead>\n",
       "  <tbody>\n",
       "    <tr>\n",
       "      <th>0</th>\n",
       "      <td>U</td>\n",
       "    </tr>\n",
       "    <tr>\n",
       "      <th>1</th>\n",
       "      <td>F</td>\n",
       "    </tr>\n",
       "    <tr>\n",
       "      <th>2</th>\n",
       "      <td>F</td>\n",
       "    </tr>\n",
       "    <tr>\n",
       "      <th>3</th>\n",
       "      <td>M</td>\n",
       "    </tr>\n",
       "    <tr>\n",
       "      <th>4</th>\n",
       "      <td>M</td>\n",
       "    </tr>\n",
       "    <tr>\n",
       "      <th>...</th>\n",
       "      <td>...</td>\n",
       "    </tr>\n",
       "    <tr>\n",
       "      <th>355869</th>\n",
       "      <td>F</td>\n",
       "    </tr>\n",
       "    <tr>\n",
       "      <th>355870</th>\n",
       "      <td>U</td>\n",
       "    </tr>\n",
       "    <tr>\n",
       "      <th>355871</th>\n",
       "      <td>F</td>\n",
       "    </tr>\n",
       "    <tr>\n",
       "      <th>355872</th>\n",
       "      <td>M</td>\n",
       "    </tr>\n",
       "    <tr>\n",
       "      <th>355873</th>\n",
       "      <td>M</td>\n",
       "    </tr>\n",
       "  </tbody>\n",
       "</table>\n",
       "<p>355874 rows × 1 columns</p>\n",
       "</div>"
      ],
      "text/plain": [
       "       customer_gender\n",
       "0                    U\n",
       "1                    F\n",
       "2                    F\n",
       "3                    M\n",
       "4                    M\n",
       "...                ...\n",
       "355869               F\n",
       "355870               U\n",
       "355871               F\n",
       "355872               M\n",
       "355873               M\n",
       "\n",
       "[355874 rows x 1 columns]"
      ]
     },
     "execution_count": 11,
     "metadata": {},
     "output_type": "execute_result"
    }
   ],
   "source": [
    "data = pd.read_csv(\"Carmax - Main (Modified).csv\", index_col=0)\n",
    "df = data.copy()\n",
    "test_df = df.loc[0:, [\"customer_gender\"]]\n",
    "test_df  "
   ]
  },
  {
   "cell_type": "code",
   "execution_count": 12,
   "metadata": {},
   "outputs": [
    {
     "name": "stdout",
     "output_type": "stream",
     "text": [
      "Population Size: 320606\n",
      "Male Population: 184500\n",
      "Female Population: 136106\n",
      "Pr(M): 0.575\n",
      "Pr(F): 0.425\n"
     ]
    }
   ],
   "source": [
    "pop_size = len(test_df)\n",
    "population_size = pop_size - 35268 # subtracted out the undefined population \n",
    "print(\"Population Size: {}\".format(population_size)) \n",
    "\n",
    "male = np.sum(df.customer_gender == 'M') \n",
    "print(\"Male Population: {}\".format(male)) \n",
    "\n",
    "female = np.sum(df.customer_gender == 'F') \n",
    "print(\"Female Population: {}\".format(female)) \n",
    "\n",
    "prob_male = round(male / population_size, 3)\n",
    "print(\"Pr(M): {}\".format(prob_male))\n",
    "\n",
    "prob_female = round(female / population_size, 3)\n",
    "print(\"Pr(F): {}\".format(prob_female)) "
   ]
  },
  {
   "cell_type": "code",
   "execution_count": 22,
   "metadata": {},
   "outputs": [
    {
     "data": {
      "image/png": "[encoded data removed]",
      "text/plain": [
       "<Figure size 432x288 with 1 Axes>"
      ]
     },
     "metadata": {
      "needs_background": "light"
     },
     "output_type": "display_data"
    }
   ],
   "source": [
    "null_outcomes = []\n",
    "\n",
    "for i in range(100):\n",
    "    purchases_by_gend = np.random.choice(['M', 'F'], size=population_size,  p=[.6, .4])\n",
    "    purchases_male = np.sum(purchases_by_gend == 'M')\n",
    "    null_outcomes.append(purchases_male) \n",
    "\n",
    "null_min = np.min(null_outcomes)\n",
    "null_max = np.max(null_outcomes)\n",
    "\n",
    "plt.hist(null_outcomes, range=(191000,194000), bins=5,  edgecolor='black')\n",
    "plt.title(\"Null Distribution - Gender Sample\")\n",
    "plt.axvline(purchases_male, color='r', linestyle='dashed', linewidth=3, label=\"Male\")\n",
    "plt.xlabel(\"Gender - Male\")\n",
    "plt.ylabel(\"Trials\")\n",
    "plt.legend()\n",
    "plt.show()"
   ]
  },
  {
   "cell_type": "code",
   "execution_count": 23,
   "metadata": {},
   "outputs": [
    {
     "data": {
      "image/png": "[encoded data removed]",
      "text/plain": [
       "<Figure size 432x288 with 1 Axes>"
      ]
     },
     "metadata": {
      "needs_background": "light"
     },
     "output_type": "display_data"
    }
   ],
   "source": [
    "null_outcomes_2 = []\n",
    "\n",
    "for i in range(100):\n",
    "    purchases_by_gend = np.random.choice(['M', 'F'], size=population_size,  p=[.6, .4])\n",
    "    purchases_female = np.sum(purchases_by_gend == 'F')\n",
    "    null_outcomes_2.append(purchases_female) \n",
    "\n",
    "null_min_2 = np.min(null_outcomes_2)\n",
    "null_max_2 = np.max(null_outcomes_2)\n",
    "\n",
    "plt.hist(null_outcomes_2, range=(126000,129000), bins=5,  edgecolor='black')\n",
    "plt.title(\"Null Distribution - Gender Sample\")\n",
    "plt.axvline(purchases_female, color='r', linestyle='dashed', linewidth=3, label=\"Male\")\n",
    "plt.xlabel(\"Gender - Female\")\n",
    "plt.ylabel(\"Trials\")\n",
    "plt.legend()\n",
    "plt.show()"
   ]
  }
 ],
 "metadata": {
  "interpreter": {
   "hash": "270e48d7d833aa9f6e241cd7baab00f55729dc9b87acb79557571c94ce8b6154"
  },
  "kernelspec": {
   "display_name": "Python 3.8.5 64-bit ('base': conda)",
   "language": "python",
   "name": "python3"
  },
  "language_info": {
   "codemirror_mode": {
    "name": "ipython",
    "version": 3
   },
   "file_extension": ".py",
   "mimetype": "text/x-python",
   "name": "python",
   "nbconvert_exporter": "python",
   "pygments_lexer": "ipython3",
   "version": "3.8.5"
  },
  "orig_nbformat": 4
 },
 "nbformat": 4,
 "nbformat_minor": 2
}
