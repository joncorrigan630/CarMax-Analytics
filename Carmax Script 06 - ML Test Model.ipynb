{
 "cells": [
  {
   "cell_type": "markdown",
   "source": [
    "# Import Libraries"
   ],
   "metadata": {}
  },
  {
   "cell_type": "code",
   "execution_count": 1,
   "source": [
    "import pandas as pd \r\n",
    "from sklearn.tree import DecisionTreeRegressor\r\n",
    "from sklearn.metrics import mean_absolute_error\r\n",
    "from sklearn.model_selection import train_test_split\r\n",
    "from sklearn.ensemble import RandomForestRegressor"
   ],
   "outputs": [],
   "metadata": {}
  },
  {
   "cell_type": "markdown",
   "source": [
    "# Read in Modified Carmax Data "
   ],
   "metadata": {}
  },
  {
   "cell_type": "code",
   "execution_count": 2,
   "source": [
    " # Create variable for csv file path\r\n",
    "carmax_data_csv_path = \"Carmax - Main (Modified).csv\" \r\n",
    "# Read in csv file with path variable \r\n",
    "carmax_data = pd.read_csv(carmax_data_csv_path, index_col=0) \r\n",
    "# Create copy of df as new variable  \r\n",
    "carmax_df = carmax_data.copy() \r\n",
    "carmax_df"
   ],
   "outputs": [
    {
     "output_type": "execute_result",
     "data": {
      "text/plain": [
       "        insert_num purchase_make purchase_model  purchase_vehicle_year  \\\n",
       "0            81690         DODGE        CHARGER                   2012   \n",
       "1           109994          FORD           F150                   2007   \n",
       "2            11399           BMW            328                   2010   \n",
       "3           214156         LEXUS         GS 300                   2003   \n",
       "4            36685     CHEVROLET          CRUZE                   2012   \n",
       "...            ...           ...            ...                    ...   \n",
       "355869      195314          JEEP        LIBERTY                   2010   \n",
       "355870       58219     CHEVROLET          SONIC                   2012   \n",
       "355871      207386           KIA        SORENTO                   2012   \n",
       "355872      252391        NISSAN           350Z                   2003   \n",
       "355873       52652     CHEVROLET         MALIBU                   2012   \n",
       "\n",
       "       purchase_price  purchase_price_val  trade_in  vehicle_financing  \\\n",
       "0       15001 - 20000               17501      True               True   \n",
       "1       15001 - 20000               17501     False              False   \n",
       "2       25001 - 30000               27501      True               True   \n",
       "3       10001 - 15000               12501     False               True   \n",
       "4       15001 - 20000               17501      True               True   \n",
       "...               ...                 ...       ...                ...   \n",
       "355869  15001 - 20000               17501     False               True   \n",
       "355870  10001 - 15000               12501      True              False   \n",
       "355871  15001 - 20000               17501      True               True   \n",
       "355872  10001 - 15000               12501     False               True   \n",
       "355873  15001 - 20000               17501      True               True   \n",
       "\n",
       "       customer_age  customer_age_val  customer_income  customer_income_val  \\\n",
       "0           21 - 30                25    40001 - 60000                50001   \n",
       "1           51 - 60                55        0 - 20000                10000   \n",
       "2           41 - 50                45    60001 - 80000                70001   \n",
       "3           21 - 30                25    20001 - 40000                30001   \n",
       "4           31 - 40                35  120001 - 140000               130001   \n",
       "...             ...               ...              ...                  ...   \n",
       "355869      21 - 30                25    20001 - 40000                30001   \n",
       "355870      71 - 80                75                ?                    0   \n",
       "355871      61 - 70                65    20001 - 40000                30001   \n",
       "355872      21 - 30                25    40001 - 60000                50001   \n",
       "355873      31 - 40                35                ?                    0   \n",
       "\n",
       "       customer_gender  customer_previous_purchase  \\\n",
       "0                    U                       False   \n",
       "1                    F                        True   \n",
       "2                    F                        True   \n",
       "3                    M                       False   \n",
       "4                    M                        True   \n",
       "...                ...                         ...   \n",
       "355869               F                       False   \n",
       "355870               U                       False   \n",
       "355871               F                        True   \n",
       "355872               M                       False   \n",
       "355873               M                       False   \n",
       "\n",
       "        customer_distance_to_dealer  post_purchase_satisfaction  \\\n",
       "0                               8.0                         0.0   \n",
       "1                              19.0                         0.0   \n",
       "2                              21.0                         0.0   \n",
       "3                               8.0                         0.0   \n",
       "4                               5.0                         0.0   \n",
       "...                             ...                         ...   \n",
       "355869                         13.0                         0.0   \n",
       "355870                          2.0                         0.0   \n",
       "355871                          9.0                         0.0   \n",
       "355872                          5.0                         0.0   \n",
       "355873                          9.0                         0.0   \n",
       "\n",
       "        vehicle_warranty_used  subsequent_purchases  \n",
       "0                       False                     1  \n",
       "1                       False                     0  \n",
       "2                       False                     0  \n",
       "3                       False                     0  \n",
       "4                        True                     1  \n",
       "...                       ...                   ...  \n",
       "355869                  False                     0  \n",
       "355870                  False                     0  \n",
       "355871                  False                     1  \n",
       "355872                  False                     0  \n",
       "355873                  False                     0  \n",
       "\n",
       "[355874 rows x 18 columns]"
      ],
      "text/html": [
       "<div>\n",
       "<style scoped>\n",
       "    .dataframe tbody tr th:only-of-type {\n",
       "        vertical-align: middle;\n",
       "    }\n",
       "\n",
       "    .dataframe tbody tr th {\n",
       "        vertical-align: top;\n",
       "    }\n",
       "\n",
       "    .dataframe thead th {\n",
       "        text-align: right;\n",
       "    }\n",
       "</style>\n",
       "<table border=\"1\" class=\"dataframe\">\n",
       "  <thead>\n",
       "    <tr style=\"text-align: right;\">\n",
       "      <th></th>\n",
       "      <th>insert_num</th>\n",
       "      <th>purchase_make</th>\n",
       "      <th>purchase_model</th>\n",
       "      <th>purchase_vehicle_year</th>\n",
       "      <th>purchase_price</th>\n",
       "      <th>purchase_price_val</th>\n",
       "      <th>trade_in</th>\n",
       "      <th>vehicle_financing</th>\n",
       "      <th>customer_age</th>\n",
       "      <th>customer_age_val</th>\n",
       "      <th>customer_income</th>\n",
       "      <th>customer_income_val</th>\n",
       "      <th>customer_gender</th>\n",
       "      <th>customer_previous_purchase</th>\n",
       "      <th>customer_distance_to_dealer</th>\n",
       "      <th>post_purchase_satisfaction</th>\n",
       "      <th>vehicle_warranty_used</th>\n",
       "      <th>subsequent_purchases</th>\n",
       "    </tr>\n",
       "  </thead>\n",
       "  <tbody>\n",
       "    <tr>\n",
       "      <th>0</th>\n",
       "      <td>81690</td>\n",
       "      <td>DODGE</td>\n",
       "      <td>CHARGER</td>\n",
       "      <td>2012</td>\n",
       "      <td>15001 - 20000</td>\n",
       "      <td>17501</td>\n",
       "      <td>True</td>\n",
       "      <td>True</td>\n",
       "      <td>21 - 30</td>\n",
       "      <td>25</td>\n",
       "      <td>40001 - 60000</td>\n",
       "      <td>50001</td>\n",
       "      <td>U</td>\n",
       "      <td>False</td>\n",
       "      <td>8.0</td>\n",
       "      <td>0.0</td>\n",
       "      <td>False</td>\n",
       "      <td>1</td>\n",
       "    </tr>\n",
       "    <tr>\n",
       "      <th>1</th>\n",
       "      <td>109994</td>\n",
       "      <td>FORD</td>\n",
       "      <td>F150</td>\n",
       "      <td>2007</td>\n",
       "      <td>15001 - 20000</td>\n",
       "      <td>17501</td>\n",
       "      <td>False</td>\n",
       "      <td>False</td>\n",
       "      <td>51 - 60</td>\n",
       "      <td>55</td>\n",
       "      <td>0 - 20000</td>\n",
       "      <td>10000</td>\n",
       "      <td>F</td>\n",
       "      <td>True</td>\n",
       "      <td>19.0</td>\n",
       "      <td>0.0</td>\n",
       "      <td>False</td>\n",
       "      <td>0</td>\n",
       "    </tr>\n",
       "    <tr>\n",
       "      <th>2</th>\n",
       "      <td>11399</td>\n",
       "      <td>BMW</td>\n",
       "      <td>328</td>\n",
       "      <td>2010</td>\n",
       "      <td>25001 - 30000</td>\n",
       "      <td>27501</td>\n",
       "      <td>True</td>\n",
       "      <td>True</td>\n",
       "      <td>41 - 50</td>\n",
       "      <td>45</td>\n",
       "      <td>60001 - 80000</td>\n",
       "      <td>70001</td>\n",
       "      <td>F</td>\n",
       "      <td>True</td>\n",
       "      <td>21.0</td>\n",
       "      <td>0.0</td>\n",
       "      <td>False</td>\n",
       "      <td>0</td>\n",
       "    </tr>\n",
       "    <tr>\n",
       "      <th>3</th>\n",
       "      <td>214156</td>\n",
       "      <td>LEXUS</td>\n",
       "      <td>GS 300</td>\n",
       "      <td>2003</td>\n",
       "      <td>10001 - 15000</td>\n",
       "      <td>12501</td>\n",
       "      <td>False</td>\n",
       "      <td>True</td>\n",
       "      <td>21 - 30</td>\n",
       "      <td>25</td>\n",
       "      <td>20001 - 40000</td>\n",
       "      <td>30001</td>\n",
       "      <td>M</td>\n",
       "      <td>False</td>\n",
       "      <td>8.0</td>\n",
       "      <td>0.0</td>\n",
       "      <td>False</td>\n",
       "      <td>0</td>\n",
       "    </tr>\n",
       "    <tr>\n",
       "      <th>4</th>\n",
       "      <td>36685</td>\n",
       "      <td>CHEVROLET</td>\n",
       "      <td>CRUZE</td>\n",
       "      <td>2012</td>\n",
       "      <td>15001 - 20000</td>\n",
       "      <td>17501</td>\n",
       "      <td>True</td>\n",
       "      <td>True</td>\n",
       "      <td>31 - 40</td>\n",
       "      <td>35</td>\n",
       "      <td>120001 - 140000</td>\n",
       "      <td>130001</td>\n",
       "      <td>M</td>\n",
       "      <td>True</td>\n",
       "      <td>5.0</td>\n",
       "      <td>0.0</td>\n",
       "      <td>True</td>\n",
       "      <td>1</td>\n",
       "    </tr>\n",
       "    <tr>\n",
       "      <th>...</th>\n",
       "      <td>...</td>\n",
       "      <td>...</td>\n",
       "      <td>...</td>\n",
       "      <td>...</td>\n",
       "      <td>...</td>\n",
       "      <td>...</td>\n",
       "      <td>...</td>\n",
       "      <td>...</td>\n",
       "      <td>...</td>\n",
       "      <td>...</td>\n",
       "      <td>...</td>\n",
       "      <td>...</td>\n",
       "      <td>...</td>\n",
       "      <td>...</td>\n",
       "      <td>...</td>\n",
       "      <td>...</td>\n",
       "      <td>...</td>\n",
       "      <td>...</td>\n",
       "    </tr>\n",
       "    <tr>\n",
       "      <th>355869</th>\n",
       "      <td>195314</td>\n",
       "      <td>JEEP</td>\n",
       "      <td>LIBERTY</td>\n",
       "      <td>2010</td>\n",
       "      <td>15001 - 20000</td>\n",
       "      <td>17501</td>\n",
       "      <td>False</td>\n",
       "      <td>True</td>\n",
       "      <td>21 - 30</td>\n",
       "      <td>25</td>\n",
       "      <td>20001 - 40000</td>\n",
       "      <td>30001</td>\n",
       "      <td>F</td>\n",
       "      <td>False</td>\n",
       "      <td>13.0</td>\n",
       "      <td>0.0</td>\n",
       "      <td>False</td>\n",
       "      <td>0</td>\n",
       "    </tr>\n",
       "    <tr>\n",
       "      <th>355870</th>\n",
       "      <td>58219</td>\n",
       "      <td>CHEVROLET</td>\n",
       "      <td>SONIC</td>\n",
       "      <td>2012</td>\n",
       "      <td>10001 - 15000</td>\n",
       "      <td>12501</td>\n",
       "      <td>True</td>\n",
       "      <td>False</td>\n",
       "      <td>71 - 80</td>\n",
       "      <td>75</td>\n",
       "      <td>?</td>\n",
       "      <td>0</td>\n",
       "      <td>U</td>\n",
       "      <td>False</td>\n",
       "      <td>2.0</td>\n",
       "      <td>0.0</td>\n",
       "      <td>False</td>\n",
       "      <td>0</td>\n",
       "    </tr>\n",
       "    <tr>\n",
       "      <th>355871</th>\n",
       "      <td>207386</td>\n",
       "      <td>KIA</td>\n",
       "      <td>SORENTO</td>\n",
       "      <td>2012</td>\n",
       "      <td>15001 - 20000</td>\n",
       "      <td>17501</td>\n",
       "      <td>True</td>\n",
       "      <td>True</td>\n",
       "      <td>61 - 70</td>\n",
       "      <td>65</td>\n",
       "      <td>20001 - 40000</td>\n",
       "      <td>30001</td>\n",
       "      <td>F</td>\n",
       "      <td>True</td>\n",
       "      <td>9.0</td>\n",
       "      <td>0.0</td>\n",
       "      <td>False</td>\n",
       "      <td>1</td>\n",
       "    </tr>\n",
       "    <tr>\n",
       "      <th>355872</th>\n",
       "      <td>252391</td>\n",
       "      <td>NISSAN</td>\n",
       "      <td>350Z</td>\n",
       "      <td>2003</td>\n",
       "      <td>10001 - 15000</td>\n",
       "      <td>12501</td>\n",
       "      <td>False</td>\n",
       "      <td>True</td>\n",
       "      <td>21 - 30</td>\n",
       "      <td>25</td>\n",
       "      <td>40001 - 60000</td>\n",
       "      <td>50001</td>\n",
       "      <td>M</td>\n",
       "      <td>False</td>\n",
       "      <td>5.0</td>\n",
       "      <td>0.0</td>\n",
       "      <td>False</td>\n",
       "      <td>0</td>\n",
       "    </tr>\n",
       "    <tr>\n",
       "      <th>355873</th>\n",
       "      <td>52652</td>\n",
       "      <td>CHEVROLET</td>\n",
       "      <td>MALIBU</td>\n",
       "      <td>2012</td>\n",
       "      <td>15001 - 20000</td>\n",
       "      <td>17501</td>\n",
       "      <td>True</td>\n",
       "      <td>True</td>\n",
       "      <td>31 - 40</td>\n",
       "      <td>35</td>\n",
       "      <td>?</td>\n",
       "      <td>0</td>\n",
       "      <td>M</td>\n",
       "      <td>False</td>\n",
       "      <td>9.0</td>\n",
       "      <td>0.0</td>\n",
       "      <td>False</td>\n",
       "      <td>0</td>\n",
       "    </tr>\n",
       "  </tbody>\n",
       "</table>\n",
       "<p>355874 rows × 18 columns</p>\n",
       "</div>"
      ]
     },
     "metadata": {},
     "execution_count": 2
    }
   ],
   "metadata": {}
  },
  {
   "cell_type": "markdown",
   "source": [
    "# Data Quality Validation"
   ],
   "metadata": {}
  },
  {
   "cell_type": "code",
   "execution_count": 3,
   "source": [
    "carmax_df.dtypes # Print data types for all column values"
   ],
   "outputs": [
    {
     "output_type": "execute_result",
     "data": {
      "text/plain": [
       "insert_num                       int64\n",
       "purchase_make                   object\n",
       "purchase_model                  object\n",
       "purchase_vehicle_year            int64\n",
       "purchase_price                  object\n",
       "purchase_price_val               int64\n",
       "trade_in                          bool\n",
       "vehicle_financing                 bool\n",
       "customer_age                    object\n",
       "customer_age_val                 int64\n",
       "customer_income                 object\n",
       "customer_income_val              int64\n",
       "customer_gender                 object\n",
       "customer_previous_purchase        bool\n",
       "customer_distance_to_dealer    float64\n",
       "post_purchase_satisfaction     float64\n",
       "vehicle_warranty_used             bool\n",
       "subsequent_purchases             int64\n",
       "dtype: object"
      ]
     },
     "metadata": {},
     "execution_count": 3
    }
   ],
   "metadata": {}
  },
  {
   "cell_type": "code",
   "execution_count": 4,
   "source": [
    "carmax_df.isnull().sum() # Print the number of NaN values in each column  "
   ],
   "outputs": [
    {
     "output_type": "execute_result",
     "data": {
      "text/plain": [
       "insert_num                     0\n",
       "purchase_make                  0\n",
       "purchase_model                 0\n",
       "purchase_vehicle_year          0\n",
       "purchase_price                 0\n",
       "purchase_price_val             0\n",
       "trade_in                       0\n",
       "vehicle_financing              0\n",
       "customer_age                   0\n",
       "customer_age_val               0\n",
       "customer_income                0\n",
       "customer_income_val            0\n",
       "customer_gender                0\n",
       "customer_previous_purchase     0\n",
       "customer_distance_to_dealer    0\n",
       "post_purchase_satisfaction     0\n",
       "vehicle_warranty_used          0\n",
       "subsequent_purchases           0\n",
       "dtype: int64"
      ]
     },
     "metadata": {},
     "execution_count": 4
    }
   ],
   "metadata": {}
  },
  {
   "cell_type": "code",
   "execution_count": 5,
   "source": [
    "carmax_df.columns.tolist() # Create list of all columns"
   ],
   "outputs": [
    {
     "output_type": "execute_result",
     "data": {
      "text/plain": [
       "['insert_num',\n",
       " 'purchase_make',\n",
       " 'purchase_model',\n",
       " 'purchase_vehicle_year',\n",
       " 'purchase_price',\n",
       " 'purchase_price_val',\n",
       " 'trade_in',\n",
       " 'vehicle_financing',\n",
       " 'customer_age',\n",
       " 'customer_age_val',\n",
       " 'customer_income',\n",
       " 'customer_income_val',\n",
       " 'customer_gender',\n",
       " 'customer_previous_purchase',\n",
       " 'customer_distance_to_dealer',\n",
       " 'post_purchase_satisfaction',\n",
       " 'vehicle_warranty_used',\n",
       " 'subsequent_purchases']"
      ]
     },
     "metadata": {},
     "execution_count": 5
    }
   ],
   "metadata": {}
  },
  {
   "cell_type": "markdown",
   "source": [
    "# Data Exploration "
   ],
   "metadata": {}
  },
  {
   "cell_type": "code",
   "execution_count": 6,
   "source": [
    "carmax_df.describe() # Summary statistics "
   ],
   "outputs": [
    {
     "output_type": "execute_result",
     "data": {
      "text/plain": [
       "          insert_num  purchase_vehicle_year  purchase_price_val  \\\n",
       "count  355874.000000          355874.000000       355874.000000   \n",
       "mean   177937.500000            2009.527867        19241.313979   \n",
       "std    102732.119186               2.491927         7425.522232   \n",
       "min         1.000000            1953.000000            0.000000   \n",
       "25%     88969.250000            2008.000000        12501.000000   \n",
       "50%    177937.500000            2010.000000        17501.000000   \n",
       "75%    266905.750000            2011.000000        22501.000000   \n",
       "max    355874.000000            2014.000000        92501.000000   \n",
       "\n",
       "       customer_age_val  customer_income_val  customer_distance_to_dealer  \\\n",
       "count     355874.000000        355874.000000                355874.000000   \n",
       "mean          41.098366         50964.097470                    15.227524   \n",
       "std           14.383603         39588.322449                    64.866575   \n",
       "min            0.000000             0.000000                     0.000000   \n",
       "25%           25.000000         30001.000000                     5.000000   \n",
       "50%           35.000000         50001.000000                     8.000000   \n",
       "75%           55.000000         70001.000000                    14.000000   \n",
       "max           95.000000        190001.000000                  2455.000000   \n",
       "\n",
       "       post_purchase_satisfaction  subsequent_purchases  \n",
       "count               355874.000000         355874.000000  \n",
       "mean                     0.031373              0.533416  \n",
       "std                      0.546482              1.190327  \n",
       "min                      0.000000              0.000000  \n",
       "25%                      0.000000              0.000000  \n",
       "50%                      0.000000              0.000000  \n",
       "75%                      0.000000              1.000000  \n",
       "max                     10.000000             10.000000  "
      ],
      "text/html": [
       "<div>\n",
       "<style scoped>\n",
       "    .dataframe tbody tr th:only-of-type {\n",
       "        vertical-align: middle;\n",
       "    }\n",
       "\n",
       "    .dataframe tbody tr th {\n",
       "        vertical-align: top;\n",
       "    }\n",
       "\n",
       "    .dataframe thead th {\n",
       "        text-align: right;\n",
       "    }\n",
       "</style>\n",
       "<table border=\"1\" class=\"dataframe\">\n",
       "  <thead>\n",
       "    <tr style=\"text-align: right;\">\n",
       "      <th></th>\n",
       "      <th>insert_num</th>\n",
       "      <th>purchase_vehicle_year</th>\n",
       "      <th>purchase_price_val</th>\n",
       "      <th>customer_age_val</th>\n",
       "      <th>customer_income_val</th>\n",
       "      <th>customer_distance_to_dealer</th>\n",
       "      <th>post_purchase_satisfaction</th>\n",
       "      <th>subsequent_purchases</th>\n",
       "    </tr>\n",
       "  </thead>\n",
       "  <tbody>\n",
       "    <tr>\n",
       "      <th>count</th>\n",
       "      <td>355874.000000</td>\n",
       "      <td>355874.000000</td>\n",
       "      <td>355874.000000</td>\n",
       "      <td>355874.000000</td>\n",
       "      <td>355874.000000</td>\n",
       "      <td>355874.000000</td>\n",
       "      <td>355874.000000</td>\n",
       "      <td>355874.000000</td>\n",
       "    </tr>\n",
       "    <tr>\n",
       "      <th>mean</th>\n",
       "      <td>177937.500000</td>\n",
       "      <td>2009.527867</td>\n",
       "      <td>19241.313979</td>\n",
       "      <td>41.098366</td>\n",
       "      <td>50964.097470</td>\n",
       "      <td>15.227524</td>\n",
       "      <td>0.031373</td>\n",
       "      <td>0.533416</td>\n",
       "    </tr>\n",
       "    <tr>\n",
       "      <th>std</th>\n",
       "      <td>102732.119186</td>\n",
       "      <td>2.491927</td>\n",
       "      <td>7425.522232</td>\n",
       "      <td>14.383603</td>\n",
       "      <td>39588.322449</td>\n",
       "      <td>64.866575</td>\n",
       "      <td>0.546482</td>\n",
       "      <td>1.190327</td>\n",
       "    </tr>\n",
       "    <tr>\n",
       "      <th>min</th>\n",
       "      <td>1.000000</td>\n",
       "      <td>1953.000000</td>\n",
       "      <td>0.000000</td>\n",
       "      <td>0.000000</td>\n",
       "      <td>0.000000</td>\n",
       "      <td>0.000000</td>\n",
       "      <td>0.000000</td>\n",
       "      <td>0.000000</td>\n",
       "    </tr>\n",
       "    <tr>\n",
       "      <th>25%</th>\n",
       "      <td>88969.250000</td>\n",
       "      <td>2008.000000</td>\n",
       "      <td>12501.000000</td>\n",
       "      <td>25.000000</td>\n",
       "      <td>30001.000000</td>\n",
       "      <td>5.000000</td>\n",
       "      <td>0.000000</td>\n",
       "      <td>0.000000</td>\n",
       "    </tr>\n",
       "    <tr>\n",
       "      <th>50%</th>\n",
       "      <td>177937.500000</td>\n",
       "      <td>2010.000000</td>\n",
       "      <td>17501.000000</td>\n",
       "      <td>35.000000</td>\n",
       "      <td>50001.000000</td>\n",
       "      <td>8.000000</td>\n",
       "      <td>0.000000</td>\n",
       "      <td>0.000000</td>\n",
       "    </tr>\n",
       "    <tr>\n",
       "      <th>75%</th>\n",
       "      <td>266905.750000</td>\n",
       "      <td>2011.000000</td>\n",
       "      <td>22501.000000</td>\n",
       "      <td>55.000000</td>\n",
       "      <td>70001.000000</td>\n",
       "      <td>14.000000</td>\n",
       "      <td>0.000000</td>\n",
       "      <td>1.000000</td>\n",
       "    </tr>\n",
       "    <tr>\n",
       "      <th>max</th>\n",
       "      <td>355874.000000</td>\n",
       "      <td>2014.000000</td>\n",
       "      <td>92501.000000</td>\n",
       "      <td>95.000000</td>\n",
       "      <td>190001.000000</td>\n",
       "      <td>2455.000000</td>\n",
       "      <td>10.000000</td>\n",
       "      <td>10.000000</td>\n",
       "    </tr>\n",
       "  </tbody>\n",
       "</table>\n",
       "</div>"
      ]
     },
     "metadata": {},
     "execution_count": 6
    }
   ],
   "metadata": {}
  },
  {
   "cell_type": "markdown",
   "source": [
    "# Select Data for ML Model"
   ],
   "metadata": {}
  },
  {
   "cell_type": "code",
   "execution_count": 7,
   "source": [
    "y = carmax_df.purchase_price_val # Create target object as y - (purchase price)"
   ],
   "outputs": [],
   "metadata": {}
  },
  {
   "cell_type": "code",
   "execution_count": 8,
   "source": [
    "features_list = ['customer_age_val', 'customer_income_val'] # Create list of model features - (customer age, customer income) "
   ],
   "outputs": [],
   "metadata": {}
  },
  {
   "cell_type": "code",
   "execution_count": 9,
   "source": [
    "X = carmax_df[features_list] # Create df with columns from features list as X "
   ],
   "outputs": [],
   "metadata": {}
  },
  {
   "cell_type": "code",
   "execution_count": 10,
   "source": [
    "X.describe() # Summary statistics for X"
   ],
   "outputs": [
    {
     "output_type": "execute_result",
     "data": {
      "text/plain": [
       "       customer_age_val  customer_income_val\n",
       "count     355874.000000        355874.000000\n",
       "mean          41.098366         50964.097470\n",
       "std           14.383603         39588.322449\n",
       "min            0.000000             0.000000\n",
       "25%           25.000000         30001.000000\n",
       "50%           35.000000         50001.000000\n",
       "75%           55.000000         70001.000000\n",
       "max           95.000000        190001.000000"
      ],
      "text/html": [
       "<div>\n",
       "<style scoped>\n",
       "    .dataframe tbody tr th:only-of-type {\n",
       "        vertical-align: middle;\n",
       "    }\n",
       "\n",
       "    .dataframe tbody tr th {\n",
       "        vertical-align: top;\n",
       "    }\n",
       "\n",
       "    .dataframe thead th {\n",
       "        text-align: right;\n",
       "    }\n",
       "</style>\n",
       "<table border=\"1\" class=\"dataframe\">\n",
       "  <thead>\n",
       "    <tr style=\"text-align: right;\">\n",
       "      <th></th>\n",
       "      <th>customer_age_val</th>\n",
       "      <th>customer_income_val</th>\n",
       "    </tr>\n",
       "  </thead>\n",
       "  <tbody>\n",
       "    <tr>\n",
       "      <th>count</th>\n",
       "      <td>355874.000000</td>\n",
       "      <td>355874.000000</td>\n",
       "    </tr>\n",
       "    <tr>\n",
       "      <th>mean</th>\n",
       "      <td>41.098366</td>\n",
       "      <td>50964.097470</td>\n",
       "    </tr>\n",
       "    <tr>\n",
       "      <th>std</th>\n",
       "      <td>14.383603</td>\n",
       "      <td>39588.322449</td>\n",
       "    </tr>\n",
       "    <tr>\n",
       "      <th>min</th>\n",
       "      <td>0.000000</td>\n",
       "      <td>0.000000</td>\n",
       "    </tr>\n",
       "    <tr>\n",
       "      <th>25%</th>\n",
       "      <td>25.000000</td>\n",
       "      <td>30001.000000</td>\n",
       "    </tr>\n",
       "    <tr>\n",
       "      <th>50%</th>\n",
       "      <td>35.000000</td>\n",
       "      <td>50001.000000</td>\n",
       "    </tr>\n",
       "    <tr>\n",
       "      <th>75%</th>\n",
       "      <td>55.000000</td>\n",
       "      <td>70001.000000</td>\n",
       "    </tr>\n",
       "    <tr>\n",
       "      <th>max</th>\n",
       "      <td>95.000000</td>\n",
       "      <td>190001.000000</td>\n",
       "    </tr>\n",
       "  </tbody>\n",
       "</table>\n",
       "</div>"
      ]
     },
     "metadata": {},
     "execution_count": 10
    }
   ],
   "metadata": {}
  },
  {
   "cell_type": "code",
   "execution_count": 11,
   "source": [
    "X.head(10) # Print first ten records from X"
   ],
   "outputs": [
    {
     "output_type": "execute_result",
     "data": {
      "text/plain": [
       "   customer_age_val  customer_income_val\n",
       "0                25                50001\n",
       "1                55                10000\n",
       "2                45                70001\n",
       "3                25                30001\n",
       "4                35               130001\n",
       "5                25                70001\n",
       "6                25                30001\n",
       "7                65                90001\n",
       "8                45                50001\n",
       "9                55               150001"
      ],
      "text/html": [
       "<div>\n",
       "<style scoped>\n",
       "    .dataframe tbody tr th:only-of-type {\n",
       "        vertical-align: middle;\n",
       "    }\n",
       "\n",
       "    .dataframe tbody tr th {\n",
       "        vertical-align: top;\n",
       "    }\n",
       "\n",
       "    .dataframe thead th {\n",
       "        text-align: right;\n",
       "    }\n",
       "</style>\n",
       "<table border=\"1\" class=\"dataframe\">\n",
       "  <thead>\n",
       "    <tr style=\"text-align: right;\">\n",
       "      <th></th>\n",
       "      <th>customer_age_val</th>\n",
       "      <th>customer_income_val</th>\n",
       "    </tr>\n",
       "  </thead>\n",
       "  <tbody>\n",
       "    <tr>\n",
       "      <th>0</th>\n",
       "      <td>25</td>\n",
       "      <td>50001</td>\n",
       "    </tr>\n",
       "    <tr>\n",
       "      <th>1</th>\n",
       "      <td>55</td>\n",
       "      <td>10000</td>\n",
       "    </tr>\n",
       "    <tr>\n",
       "      <th>2</th>\n",
       "      <td>45</td>\n",
       "      <td>70001</td>\n",
       "    </tr>\n",
       "    <tr>\n",
       "      <th>3</th>\n",
       "      <td>25</td>\n",
       "      <td>30001</td>\n",
       "    </tr>\n",
       "    <tr>\n",
       "      <th>4</th>\n",
       "      <td>35</td>\n",
       "      <td>130001</td>\n",
       "    </tr>\n",
       "    <tr>\n",
       "      <th>5</th>\n",
       "      <td>25</td>\n",
       "      <td>70001</td>\n",
       "    </tr>\n",
       "    <tr>\n",
       "      <th>6</th>\n",
       "      <td>25</td>\n",
       "      <td>30001</td>\n",
       "    </tr>\n",
       "    <tr>\n",
       "      <th>7</th>\n",
       "      <td>65</td>\n",
       "      <td>90001</td>\n",
       "    </tr>\n",
       "    <tr>\n",
       "      <th>8</th>\n",
       "      <td>45</td>\n",
       "      <td>50001</td>\n",
       "    </tr>\n",
       "    <tr>\n",
       "      <th>9</th>\n",
       "      <td>55</td>\n",
       "      <td>150001</td>\n",
       "    </tr>\n",
       "  </tbody>\n",
       "</table>\n",
       "</div>"
      ]
     },
     "metadata": {},
     "execution_count": 11
    }
   ],
   "metadata": {}
  },
  {
   "cell_type": "markdown",
   "source": [
    "# 1. Build Machine Learning Model"
   ],
   "metadata": {}
  },
  {
   "cell_type": "code",
   "execution_count": 12,
   "source": [
    "# Define ML model - Specify a number for random_state to generate same results each run\r\n",
    "ml_model = DecisionTreeRegressor(random_state=0)\r\n",
    "\r\n",
    "# Fit ML model - features (X), prediction object (y)\r\n",
    "ml_model.fit(X,y)"
   ],
   "outputs": [
    {
     "output_type": "execute_result",
     "data": {
      "text/plain": [
       "DecisionTreeRegressor(random_state=0)"
      ]
     },
     "metadata": {},
     "execution_count": 12
    }
   ],
   "metadata": {}
  },
  {
   "cell_type": "code",
   "execution_count": 13,
   "source": [
    "# Print the prediction values for the first 5 records \r\n",
    "print(\"Predictions for the following 5 purchase price values:\")\r\n",
    "print(X.head())\r\n",
    "print(\"Predictions List:\")\r\n",
    "print(ml_model.predict(X.head()))"
   ],
   "outputs": [
    {
     "output_type": "stream",
     "name": "stdout",
     "text": [
      "Predictions for the following 5 purchase price values:\n",
      "   customer_age_val  customer_income_val\n",
      "0                25                50001\n",
      "1                55                10000\n",
      "2                45                70001\n",
      "3                25                30001\n",
      "4                35               130001\n",
      "Predictions List:\n",
      "[17777.65317139 18629.24516885 20105.51115068 15398.17611554\n",
      " 23905.22467595]\n"
     ]
    }
   ],
   "metadata": {}
  },
  {
   "cell_type": "markdown",
   "source": [
    "# 2. Build Machine Learning Model"
   ],
   "metadata": {}
  },
  {
   "cell_type": "code",
   "execution_count": 14,
   "source": [
    "# Generate prediction values for X\r\n",
    "predicted_purchase_prices = ml_model.predict(X)\r\n",
    "\r\n",
    "# Calculate MAE in-sample score - predicted purchase price values and actual purchase price values: error=actual-predicted\r\n",
    "mean_absolute_error(y, predicted_purchase_prices) "
   ],
   "outputs": [
    {
     "output_type": "execute_result",
     "data": {
      "text/plain": [
       "5080.152046797236"
      ]
     },
     "metadata": {},
     "execution_count": 14
    }
   ],
   "metadata": {}
  },
  {
   "cell_type": "code",
   "execution_count": 15,
   "source": [
    "# split data into training and validation data, for both features and target, based on a random number generator. \r\n",
    "# Assign the numeric value to the random_state argument ensures the same split each time we run this script  \r\n",
    "train_X, val_X, train_y, val_y = train_test_split(X, y, random_state=0)\r\n",
    "\r\n",
    "# Define ML Model \r\n",
    "ml_model = DecisionTreeRegressor()\r\n",
    "\r\n",
    "# Fit ML model to training data\r\n",
    "ml_model.fit(train_X, train_y) \r\n",
    "\r\n",
    "# Generate predicted purchase prices on validation data \r\n",
    "val_predictions = ml_model.predict(val_X)\r\n",
    "\r\n",
    "print(mean_absolute_error(val_y, val_predictions)) "
   ],
   "outputs": [
    {
     "output_type": "stream",
     "name": "stdout",
     "text": [
      "5100.678635542901\n"
     ]
    }
   ],
   "metadata": {}
  },
  {
   "cell_type": "markdown",
   "source": [
    "# 3. Build Machine Learning Model"
   ],
   "metadata": {}
  },
  {
   "cell_type": "code",
   "execution_count": 16,
   "source": [
    "# Function that compares MAE scores from different values for max_leaf_nodes\r\n",
    "def get_mae(max_leaf_nodes, train_X, val_X, train_y, val_y):\r\n",
    "    model = DecisionTreeRegressor(max_leaf_nodes=max_leaf_nodes, random_state=0)\r\n",
    "    model.fit(train_X, train_y)\r\n",
    "    preds_val = model.predict(val_X)\r\n",
    "    mae = mean_absolute_error(val_y, preds_val)\r\n",
    "    return(mae) "
   ],
   "outputs": [],
   "metadata": {}
  },
  {
   "cell_type": "code",
   "execution_count": 17,
   "source": [
    "# Create list for candidate max leaf nodes\r\n",
    "candidate_max_leaf_nodes = [5, 25, 50, 100, 250, 500]\r\n",
    "\r\n",
    "# For loop to find the ideal tree size from candidate_max_leaf_nodes\r\n",
    "scores = {max_leaf_nodes: get_mae(max_leaf_nodes, train_X, val_X, train_y, val_y) for max_leaf_nodes in candidate_max_leaf_nodes} \r\n",
    "\r\n",
    "# Assign new variable to the best value of max_leaf_nodes\r\n",
    "best_tree_size = min(scores, key=scores.get) "
   ],
   "outputs": [],
   "metadata": {}
  },
  {
   "cell_type": "code",
   "execution_count": 18,
   "source": [
    "# Fit the final ML model to it's optimal size\r\n",
    "final_model = DecisionTreeRegressor(max_leaf_nodes=best_tree_size, random_state=0)\r\n",
    "final_model.fit(X, y)"
   ],
   "outputs": [
    {
     "output_type": "execute_result",
     "data": {
      "text/plain": [
       "DecisionTreeRegressor(max_leaf_nodes=250, random_state=0)"
      ]
     },
     "metadata": {},
     "execution_count": 18
    }
   ],
   "metadata": {}
  },
  {
   "cell_type": "markdown",
   "source": [
    "# 4. Build Random Forest ML Model"
   ],
   "metadata": {}
  },
  {
   "cell_type": "code",
   "execution_count": 19,
   "source": [
    "# Define RF model\r\n",
    "rf_model = RandomForestRegressor()\r\n",
    "\r\n",
    "# Fit RF model to training data \r\n",
    "rf_model.fit(train_X, train_y)\r\n",
    "\r\n",
    "# Calculate MAE on validation data in RF model \r\n",
    "rf_val_predictions = rf_model.predict(val_X)\r\n",
    "rf_val_mae = mean_absolute_error(val_y, rf_val_predictions)\r\n",
    "\r\n",
    "print(\"Validation MAE for Random Forest Model: {}\".format(rf_val_mae)) "
   ],
   "outputs": [
    {
     "output_type": "stream",
     "name": "stdout",
     "text": [
      "Validation MAE for Random Forest Model: 5100.390667540491\n"
     ]
    }
   ],
   "metadata": {}
  },
  {
   "cell_type": "code",
   "execution_count": 20,
   "source": [
    "# Create new RF model to train on all training data\r\n",
    "rf_model_on_full_data = RandomForestRegressor()\r\n",
    "\r\n",
    "# Fit RF model to all training data   \r\n",
    "rf_model_on_full_data.fit(train_X, train_y)"
   ],
   "outputs": [
    {
     "output_type": "execute_result",
     "data": {
      "text/plain": [
       "RandomForestRegressor()"
      ]
     },
     "metadata": {},
     "execution_count": 20
    }
   ],
   "metadata": {}
  },
  {
   "cell_type": "code",
   "execution_count": 21,
   "source": [
    "# Create test_X which comes from X but includes only the feature columns used for prediction.\r\n",
    "test_X = X[features_list]\r\n",
    "\r\n",
    "# Generate prediction values on full data\r\n",
    "test_preds = rf_model_on_full_data.predict(test_X) \r\n",
    "test_preds"
   ],
   "outputs": [
    {
     "output_type": "execute_result",
     "data": {
      "text/plain": [
       "array([17773.42031833, 18616.84213721, 20086.73227931, ...,\n",
       "       17154.21861913, 17773.42031833, 21164.76968694])"
      ]
     },
     "metadata": {},
     "execution_count": 21
    }
   ],
   "metadata": {}
  },
  {
   "cell_type": "code",
   "execution_count": 22,
   "source": [
    "# Print the prediction values for the first 5 records \r\n",
    "print(\"Predictions for the following 5 purchase price values:\")\r\n",
    "print(test_X.head())\r\n",
    "print(\"Predictions List:\")\r\n",
    "print(rf_model.predict(test_X.head()))"
   ],
   "outputs": [
    {
     "output_type": "stream",
     "name": "stdout",
     "text": [
      "Predictions for the following 5 purchase price values:\n",
      "   customer_age_val  customer_income_val\n",
      "0                25                50001\n",
      "1                55                10000\n",
      "2                45                70001\n",
      "3                25                30001\n",
      "4                35               130001\n",
      "Predictions List:\n",
      "[17775.94318939 18597.3798121  20093.42729793 15408.96853222\n",
      " 24101.74200809]\n"
     ]
    }
   ],
   "metadata": {}
  },
  {
   "cell_type": "markdown",
   "source": [
    "# Output prediction results to csv file"
   ],
   "metadata": {}
  },
  {
   "cell_type": "code",
   "execution_count": 23,
   "source": [
    "output_df = pd.DataFrame(\r\n",
    "    {'customer_age_val': test_X.customer_age_val,\r\n",
    "    'customer_income_val': test_X.customer_income_val,\r\n",
    "    'purchase_price_val': test_preds}\r\n",
    ") \r\n",
    "\r\n",
    "output_df.to_csv(\"Carmax - ML Results (Output).csv\", index=False) "
   ],
   "outputs": [],
   "metadata": {}
  }
 ],
 "metadata": {
  "orig_nbformat": 4,
  "language_info": {
   "name": "python",
   "version": "3.8.5",
   "mimetype": "text/x-python",
   "codemirror_mode": {
    "name": "ipython",
    "version": 3
   },
   "pygments_lexer": "ipython3",
   "nbconvert_exporter": "python",
   "file_extension": ".py"
  },
  "kernelspec": {
   "name": "python3",
   "display_name": "Python 3.8.5 64-bit ('base': conda)"
  },
  "interpreter": {
   "hash": "270e48d7d833aa9f6e241cd7baab00f55729dc9b87acb79557571c94ce8b6154"
  }
 },
 "nbformat": 4,
 "nbformat_minor": 2
}