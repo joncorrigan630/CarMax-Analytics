{
 "cells": [
  {
   "cell_type": "code",
   "execution_count": 2,
   "metadata": {},
   "outputs": [],
   "source": [
    "import statistics\n",
    "import numpy as np\n",
    "import pandas as pd \n",
    "import seaborn as sns \n",
    "import scipy.stats as stats  \n",
    "import matplotlib.pyplot as plt "
   ]
  },
  {
   "cell_type": "code",
   "execution_count": 3,
   "metadata": {},
   "outputs": [
    {
     "data": {
      "text/html": [
       "<div>\n",
       "<style scoped>\n",
       "    .dataframe tbody tr th:only-of-type {\n",
       "        vertical-align: middle;\n",
       "    }\n",
       "\n",
       "    .dataframe tbody tr th {\n",
       "        vertical-align: top;\n",
       "    }\n",
       "\n",
       "    .dataframe thead th {\n",
       "        text-align: right;\n",
       "    }\n",
       "</style>\n",
       "<table border=\"1\" class=\"dataframe\">\n",
       "  <thead>\n",
       "    <tr style=\"text-align: right;\">\n",
       "      <th></th>\n",
       "      <th>insert_num</th>\n",
       "      <th>vehicle_make</th>\n",
       "      <th>vehicle_model</th>\n",
       "      <th>vehicle_year</th>\n",
       "      <th>purchase_price</th>\n",
       "      <th>trade_in</th>\n",
       "      <th>financing</th>\n",
       "      <th>customer_age</th>\n",
       "      <th>customer_income</th>\n",
       "      <th>customer_gender</th>\n",
       "      <th>previous_purchase</th>\n",
       "      <th>distance_to_dealer</th>\n",
       "      <th>post_purchase_satisfaction</th>\n",
       "      <th>warranty</th>\n",
       "      <th>subsequent_purchases</th>\n",
       "    </tr>\n",
       "  </thead>\n",
       "  <tbody>\n",
       "    <tr>\n",
       "      <th>0</th>\n",
       "      <td>81690</td>\n",
       "      <td>DODGE</td>\n",
       "      <td>CHARGER</td>\n",
       "      <td>2012</td>\n",
       "      <td>17501</td>\n",
       "      <td>True</td>\n",
       "      <td>True</td>\n",
       "      <td>25</td>\n",
       "      <td>50001</td>\n",
       "      <td>U</td>\n",
       "      <td>False</td>\n",
       "      <td>8.0</td>\n",
       "      <td>0.0</td>\n",
       "      <td>False</td>\n",
       "      <td>1</td>\n",
       "    </tr>\n",
       "    <tr>\n",
       "      <th>1</th>\n",
       "      <td>109994</td>\n",
       "      <td>FORD</td>\n",
       "      <td>F150</td>\n",
       "      <td>2007</td>\n",
       "      <td>17501</td>\n",
       "      <td>False</td>\n",
       "      <td>False</td>\n",
       "      <td>55</td>\n",
       "      <td>10000</td>\n",
       "      <td>F</td>\n",
       "      <td>True</td>\n",
       "      <td>19.0</td>\n",
       "      <td>0.0</td>\n",
       "      <td>False</td>\n",
       "      <td>0</td>\n",
       "    </tr>\n",
       "    <tr>\n",
       "      <th>2</th>\n",
       "      <td>11399</td>\n",
       "      <td>BMW</td>\n",
       "      <td>328</td>\n",
       "      <td>2010</td>\n",
       "      <td>27501</td>\n",
       "      <td>True</td>\n",
       "      <td>True</td>\n",
       "      <td>45</td>\n",
       "      <td>70001</td>\n",
       "      <td>F</td>\n",
       "      <td>True</td>\n",
       "      <td>21.0</td>\n",
       "      <td>0.0</td>\n",
       "      <td>False</td>\n",
       "      <td>0</td>\n",
       "    </tr>\n",
       "    <tr>\n",
       "      <th>3</th>\n",
       "      <td>214156</td>\n",
       "      <td>LEXUS</td>\n",
       "      <td>GS 300</td>\n",
       "      <td>2003</td>\n",
       "      <td>12501</td>\n",
       "      <td>False</td>\n",
       "      <td>True</td>\n",
       "      <td>25</td>\n",
       "      <td>30001</td>\n",
       "      <td>M</td>\n",
       "      <td>False</td>\n",
       "      <td>8.0</td>\n",
       "      <td>0.0</td>\n",
       "      <td>False</td>\n",
       "      <td>0</td>\n",
       "    </tr>\n",
       "    <tr>\n",
       "      <th>4</th>\n",
       "      <td>36685</td>\n",
       "      <td>CHEVROLET</td>\n",
       "      <td>CRUZE</td>\n",
       "      <td>2012</td>\n",
       "      <td>17501</td>\n",
       "      <td>True</td>\n",
       "      <td>True</td>\n",
       "      <td>35</td>\n",
       "      <td>130001</td>\n",
       "      <td>M</td>\n",
       "      <td>True</td>\n",
       "      <td>5.0</td>\n",
       "      <td>0.0</td>\n",
       "      <td>True</td>\n",
       "      <td>1</td>\n",
       "    </tr>\n",
       "    <tr>\n",
       "      <th>...</th>\n",
       "      <td>...</td>\n",
       "      <td>...</td>\n",
       "      <td>...</td>\n",
       "      <td>...</td>\n",
       "      <td>...</td>\n",
       "      <td>...</td>\n",
       "      <td>...</td>\n",
       "      <td>...</td>\n",
       "      <td>...</td>\n",
       "      <td>...</td>\n",
       "      <td>...</td>\n",
       "      <td>...</td>\n",
       "      <td>...</td>\n",
       "      <td>...</td>\n",
       "      <td>...</td>\n",
       "    </tr>\n",
       "    <tr>\n",
       "      <th>355869</th>\n",
       "      <td>195314</td>\n",
       "      <td>JEEP</td>\n",
       "      <td>LIBERTY</td>\n",
       "      <td>2010</td>\n",
       "      <td>17501</td>\n",
       "      <td>False</td>\n",
       "      <td>True</td>\n",
       "      <td>25</td>\n",
       "      <td>30001</td>\n",
       "      <td>F</td>\n",
       "      <td>False</td>\n",
       "      <td>13.0</td>\n",
       "      <td>0.0</td>\n",
       "      <td>False</td>\n",
       "      <td>0</td>\n",
       "    </tr>\n",
       "    <tr>\n",
       "      <th>355870</th>\n",
       "      <td>58219</td>\n",
       "      <td>CHEVROLET</td>\n",
       "      <td>SONIC</td>\n",
       "      <td>2012</td>\n",
       "      <td>12501</td>\n",
       "      <td>True</td>\n",
       "      <td>False</td>\n",
       "      <td>75</td>\n",
       "      <td>0</td>\n",
       "      <td>U</td>\n",
       "      <td>False</td>\n",
       "      <td>2.0</td>\n",
       "      <td>0.0</td>\n",
       "      <td>False</td>\n",
       "      <td>0</td>\n",
       "    </tr>\n",
       "    <tr>\n",
       "      <th>355871</th>\n",
       "      <td>207386</td>\n",
       "      <td>KIA</td>\n",
       "      <td>SORENTO</td>\n",
       "      <td>2012</td>\n",
       "      <td>17501</td>\n",
       "      <td>True</td>\n",
       "      <td>True</td>\n",
       "      <td>65</td>\n",
       "      <td>30001</td>\n",
       "      <td>F</td>\n",
       "      <td>True</td>\n",
       "      <td>9.0</td>\n",
       "      <td>0.0</td>\n",
       "      <td>False</td>\n",
       "      <td>1</td>\n",
       "    </tr>\n",
       "    <tr>\n",
       "      <th>355872</th>\n",
       "      <td>252391</td>\n",
       "      <td>NISSAN</td>\n",
       "      <td>350Z</td>\n",
       "      <td>2003</td>\n",
       "      <td>12501</td>\n",
       "      <td>False</td>\n",
       "      <td>True</td>\n",
       "      <td>25</td>\n",
       "      <td>50001</td>\n",
       "      <td>M</td>\n",
       "      <td>False</td>\n",
       "      <td>5.0</td>\n",
       "      <td>0.0</td>\n",
       "      <td>False</td>\n",
       "      <td>0</td>\n",
       "    </tr>\n",
       "    <tr>\n",
       "      <th>355873</th>\n",
       "      <td>52652</td>\n",
       "      <td>CHEVROLET</td>\n",
       "      <td>MALIBU</td>\n",
       "      <td>2012</td>\n",
       "      <td>17501</td>\n",
       "      <td>True</td>\n",
       "      <td>True</td>\n",
       "      <td>35</td>\n",
       "      <td>0</td>\n",
       "      <td>M</td>\n",
       "      <td>False</td>\n",
       "      <td>9.0</td>\n",
       "      <td>0.0</td>\n",
       "      <td>False</td>\n",
       "      <td>0</td>\n",
       "    </tr>\n",
       "  </tbody>\n",
       "</table>\n",
       "<p>355874 rows × 15 columns</p>\n",
       "</div>"
      ],
      "text/plain": [
       "        insert_num vehicle_make vehicle_model  vehicle_year  purchase_price  \\\n",
       "0            81690        DODGE       CHARGER          2012           17501   \n",
       "1           109994         FORD          F150          2007           17501   \n",
       "2            11399          BMW           328          2010           27501   \n",
       "3           214156        LEXUS        GS 300          2003           12501   \n",
       "4            36685    CHEVROLET         CRUZE          2012           17501   \n",
       "...            ...          ...           ...           ...             ...   \n",
       "355869      195314         JEEP       LIBERTY          2010           17501   \n",
       "355870       58219    CHEVROLET         SONIC          2012           12501   \n",
       "355871      207386          KIA       SORENTO          2012           17501   \n",
       "355872      252391       NISSAN          350Z          2003           12501   \n",
       "355873       52652    CHEVROLET        MALIBU          2012           17501   \n",
       "\n",
       "        trade_in  financing  customer_age  customer_income customer_gender  \\\n",
       "0           True       True            25            50001               U   \n",
       "1          False      False            55            10000               F   \n",
       "2           True       True            45            70001               F   \n",
       "3          False       True            25            30001               M   \n",
       "4           True       True            35           130001               M   \n",
       "...          ...        ...           ...              ...             ...   \n",
       "355869     False       True            25            30001               F   \n",
       "355870      True      False            75                0               U   \n",
       "355871      True       True            65            30001               F   \n",
       "355872     False       True            25            50001               M   \n",
       "355873      True       True            35                0               M   \n",
       "\n",
       "        previous_purchase  distance_to_dealer  post_purchase_satisfaction  \\\n",
       "0                   False                 8.0                         0.0   \n",
       "1                    True                19.0                         0.0   \n",
       "2                    True                21.0                         0.0   \n",
       "3                   False                 8.0                         0.0   \n",
       "4                    True                 5.0                         0.0   \n",
       "...                   ...                 ...                         ...   \n",
       "355869              False                13.0                         0.0   \n",
       "355870              False                 2.0                         0.0   \n",
       "355871               True                 9.0                         0.0   \n",
       "355872              False                 5.0                         0.0   \n",
       "355873              False                 9.0                         0.0   \n",
       "\n",
       "        warranty  subsequent_purchases  \n",
       "0          False                     1  \n",
       "1          False                     0  \n",
       "2          False                     0  \n",
       "3          False                     0  \n",
       "4           True                     1  \n",
       "...          ...                   ...  \n",
       "355869     False                     0  \n",
       "355870     False                     0  \n",
       "355871     False                     1  \n",
       "355872     False                     0  \n",
       "355873     False                     0  \n",
       "\n",
       "[355874 rows x 15 columns]"
      ]
     },
     "execution_count": 3,
     "metadata": {},
     "output_type": "execute_result"
    }
   ],
   "source": [
    "# create path variable for imported csv file\n",
    "carmax_data_import_path = \"Carmax - Main (Modified).csv\"\n",
    "# read in csv file as carmax_data_modified using import path variable\n",
    "carmax_data_modified = pd.read_csv(carmax_data_import_path, index_col=0)\n",
    "# create backup of carmax_data_modified as carmax_df\n",
    "df = carmax_data_modified.copy()\n",
    "df"
   ]
  },
  {
   "cell_type": "markdown",
   "metadata": {},
   "source": [
    "# Measures of Center"
   ]
  },
  {
   "cell_type": "code",
   "execution_count": 4,
   "metadata": {},
   "outputs": [
    {
     "name": "stdout",
     "output_type": "stream",
     "text": [
      "Mean: 19241.313979104965\n"
     ]
    }
   ],
   "source": [
    "mean = np.mean(df['purchase_price']) # find the mean\n",
    "print(\"Mean: {}\".format(mean)) "
   ]
  },
  {
   "cell_type": "code",
   "execution_count": 5,
   "metadata": {},
   "outputs": [
    {
     "name": "stdout",
     "output_type": "stream",
     "text": [
      "Trimmed Mean: 18248.084650509307\n"
     ]
    }
   ],
   "source": [
    "trim = stats.trim_mean(df['purchase_price'], 0.1) # find the trimmed mean\n",
    "print(\"Trimmed Mean: {}\".format(trim))"
   ]
  },
  {
   "cell_type": "code",
   "execution_count": 6,
   "metadata": {},
   "outputs": [
    {
     "name": "stdout",
     "output_type": "stream",
     "text": [
      "(9250.1, 18500.2]     219382\n",
      "(18500.2, 27750.3]     98671\n",
      "(27750.3, 37000.4]     15265\n",
      "(37000.4, 46250.5]     10332\n",
      "(-92.501, 9250.1]       9113\n",
      "(46250.5, 55500.6]      2255\n",
      "(55500.6, 64750.7]       581\n",
      "(64750.7, 74000.8]       200\n",
      "(74000.8, 83250.9]        54\n",
      "(83250.9, 92501.0]        21\n",
      "Name: purchase_price, dtype: int64\n"
     ]
    }
   ],
   "source": [
    "# bin categories\n",
    "bins = pd.cut(df['purchase_price'], 10).value_counts()\n",
    "print(bins) "
   ]
  },
  {
   "cell_type": "code",
   "execution_count": 8,
   "metadata": {},
   "outputs": [
    {
     "name": "stdout",
     "output_type": "stream",
     "text": [
      "Median: 17501.0\n"
     ]
    }
   ],
   "source": [
    "med = np.median(df['purchase_price']) # find the median\n",
    "print(\"Median: {}\".format(med))  "
   ]
  },
  {
   "cell_type": "code",
   "execution_count": 9,
   "metadata": {},
   "outputs": [
    {
     "name": "stdout",
     "output_type": "stream",
     "text": [
      "Mode: ModeResult(mode=array([17501], dtype=int64), count=array([118204]))\n"
     ]
    }
   ],
   "source": [
    "mode = stats.mode(df['purchase_price'])# find the mode\n",
    "print(\"Mode: {}\".format(mode)) "
   ]
  },
  {
   "cell_type": "code",
   "execution_count": 10,
   "metadata": {},
   "outputs": [
    {
     "name": "stdout",
     "output_type": "stream",
     "text": [
      "Maximum: 92501\n"
     ]
    }
   ],
   "source": [
    "max = df['purchase_price'].max() # find the max value\n",
    "print(\"Maximum: {}\".format(max)) "
   ]
  },
  {
   "cell_type": "code",
   "execution_count": 11,
   "metadata": {},
   "outputs": [
    {
     "name": "stdout",
     "output_type": "stream",
     "text": [
      "Minimum: 0\n"
     ]
    }
   ],
   "source": [
    "min = df['purchase_price'].min() # find the min value\n",
    "print(\"Minimum: {}\".format(min)) "
   ]
  },
  {
   "cell_type": "markdown",
   "metadata": {},
   "source": [
    "# Measures of Variation\n",
    "## The variance is the mean squared deviation of each data point from the mean."
   ]
  },
  {
   "cell_type": "code",
   "execution_count": 12,
   "metadata": {},
   "outputs": [
    {
     "name": "stdout",
     "output_type": "stream",
     "text": [
      "Sample Variance: 55138380.41320919\n",
      "Population Variance: 55138225.47528057\n"
     ]
    }
   ],
   "source": [
    "# method 1\n",
    "samp_var = np.var(df['purchase_price'], ddof=1) # find the sample variance\n",
    "print(\"Sample Variance: {}\".format(samp_var))\n",
    "\n",
    "# method 1\n",
    "pop_var = np.var(df['purchase_price']) # find the population variance\n",
    "print(\"Population Variance: {}\".format(pop_var)) "
   ]
  },
  {
   "cell_type": "code",
   "execution_count": 13,
   "metadata": {},
   "outputs": [
    {
     "name": "stdout",
     "output_type": "stream",
     "text": [
      "Sample Variance: 55138380.41312469\n",
      "Population Variance: 55138225.475196056\n"
     ]
    }
   ],
   "source": [
    "# method 2\n",
    "diff = df['purchase_price'] - np.mean(df['purchase_price']) # subtract each data point from the mean\n",
    "sq_diff = diff ** 2 # square the value of each difference\n",
    "sum_sq_diff = np.sum(sq_diff) # sum the squared values of each difference\n",
    "samp_var = sum_sq_diff / (355874 - 1) # divide the sum of the squared values by n-1\n",
    "print(\"Sample Variance: {}\".format(samp_var)) # print variance \n",
    "\n",
    "# method 2\n",
    "diff = df['purchase_price'] - np.mean(df['purchase_price']) # subtract each data point from the mean\n",
    "sq_diff = diff ** 2 # square the value of each difference\n",
    "sum_sq_diff = np.sum(sq_diff) # sum the squared values of each difference\n",
    "pop_var = sum_sq_diff / (355874) # divide the sum of the squared values by n-1\n",
    "print(\"Population Variance: {}\".format(pop_var)) # print variance "
   ]
  },
  {
   "cell_type": "markdown",
   "metadata": {},
   "source": [
    "## The standard deviation is the square root of the mean squared deviation of each data point from the mean."
   ]
  },
  {
   "cell_type": "code",
   "execution_count": 14,
   "metadata": {},
   "outputs": [
    {
     "name": "stdout",
     "output_type": "stream",
     "text": [
      "Sample Standard Deviation: 7425.522231682375\n",
      "Population Standard Deviation: 7425.511798878281\n"
     ]
    }
   ],
   "source": [
    "sample_sd = np.sqrt(np.var(df['purchase_price'], ddof=1)) # find the sample sd \n",
    "print(\"Sample Standard Deviation: {}\".format(sample_sd))  \n",
    "\n",
    "pop_sd = np.std(df['purchase_price'])\n",
    "print(\"Population Standard Deviation: {}\".format(pop_sd)) # find the population sd"
   ]
  },
  {
   "cell_type": "markdown",
   "metadata": {},
   "source": [
    "## The Mean Absolute Deviation is the mean deviation of each data point from the mean."
   ]
  },
  {
   "cell_type": "code",
   "execution_count": 15,
   "metadata": {},
   "outputs": [
    {
     "name": "stdout",
     "output_type": "stream",
     "text": [
      "Mean Absolute Deviation: 5590.155761067952\n"
     ]
    }
   ],
   "source": [
    "mad = df['purchase_price'] - np.mean(df['purchase_price']) # find the mean absolute deviation\n",
    "print(\"Mean Absolute Deviation: {}\".format(np.mean(np.abs(mad)))) "
   ]
  },
  {
   "cell_type": "markdown",
   "metadata": {},
   "source": [
    "# Measures of Spread"
   ]
  },
  {
   "cell_type": "markdown",
   "metadata": {},
   "source": [
    "# Z-scores\n",
    "## This can be found by taking the difference of each actual value to the sample mean, then dividing those values by the sample standard deviation. \n",
    "z = (actual - mean) / sd "
   ]
  },
  {
   "cell_type": "code",
   "execution_count": 16,
   "metadata": {},
   "outputs": [
    {
     "name": "stdout",
     "output_type": "stream",
     "text": [
      "Z-Scores: [-0.23436924 -0.23436924  1.11233739 ... -0.23436924 -0.90772255\n",
      " -0.23436924]\n"
     ]
    }
   ],
   "source": [
    "# method 1\n",
    "z = stats.zscore(df['purchase_price'], ddof=1) # find the z-score\n",
    "print(\"Z-Scores: {}\".format(z)) "
   ]
  },
  {
   "cell_type": "code",
   "execution_count": 17,
   "metadata": {},
   "outputs": [
    {
     "name": "stdout",
     "output_type": "stream",
     "text": [
      "List of Z-Scores:\n",
      "0        -0.234369\n",
      "1        -0.234369\n",
      "2         1.112337\n",
      "3        -0.907723\n",
      "4        -0.234369\n",
      "            ...   \n",
      "355869   -0.234369\n",
      "355870   -0.907723\n",
      "355871   -0.234369\n",
      "355872   -0.907723\n",
      "355873   -0.234369\n",
      "Name: purchase_price, Length: 355874, dtype: float64\n"
     ]
    }
   ],
   "source": [
    "# method 2\n",
    "print(\"List of Z-Scores:\")\n",
    "diff = df['purchase_price'] - np.mean(df['purchase_price']) # subtract each data point from the mean\n",
    "z = diff/df['purchase_price'].std() # divide the value of each difference by sd\n",
    "print(z) "
   ]
  },
  {
   "cell_type": "code",
   "execution_count": 18,
   "metadata": {},
   "outputs": [
    {
     "name": "stdout",
     "output_type": "stream",
     "text": [
      "Frequency Distribution:\n",
      "(9250.1, 18500.2]     219382\n",
      "(18500.2, 27750.3]     98671\n",
      "(27750.3, 37000.4]     15265\n",
      "(37000.4, 46250.5]     10332\n",
      "(-92.501, 9250.1]       9113\n",
      "(46250.5, 55500.6]      2255\n",
      "(55500.6, 64750.7]       581\n",
      "(64750.7, 74000.8]       200\n",
      "(74000.8, 83250.9]        54\n",
      "(83250.9, 92501.0]        21\n",
      "Name: purchase_price, dtype: int64\n"
     ]
    }
   ],
   "source": [
    "# bin categories and frequency distribution \n",
    "print(\"Frequency Distribution:\")\n",
    "bins = pd.cut(df['purchase_price'], 10) \n",
    "print(bins.value_counts()) "
   ]
  },
  {
   "cell_type": "markdown",
   "metadata": {},
   "source": [
    "## Quantiles, Quartiles, Deciles"
   ]
  },
  {
   "cell_type": "code",
   "execution_count": 19,
   "metadata": {},
   "outputs": [
    {
     "name": "stdout",
     "output_type": "stream",
     "text": [
      "Quantile: 17501.0\n",
      "Quantile: [17501.]\n",
      "Quartiles: [12501. 17501. 22501. 92501.]\n",
      "Quartiles: [12501. 17501. 22501. 92501.]\n",
      "Deciles: [12501. 12501. 12501. 17501. 17501. 17501. 22501. 22501. 27501. 92501.]\n",
      "Deciles: [12501. 12501. 12501. 17501. 17501. 17501. 22501. 22501. 27501. 92501.]\n"
     ]
    }
   ],
   "source": [
    "quan = np.quantile(df['purchase_price'], 0.5) # find the 50th percentile\n",
    "print(\"Quantile: {}\".format(quan)) \n",
    "quan_2 = np.quantile(df['purchase_price'], np.linspace(0.5, 0.5, 1)) # find 50th percentile \n",
    "print(\"Quantile: {}\".format(quan_2))\n",
    "\n",
    "quar = np.quantile(df['purchase_price'], [0.25, 0.5, 0.75, 1]) # find q1-q4\n",
    "print(\"Quartiles: {}\".format(quar))\n",
    "quar_2 = np.quantile(df['purchase_price'], np.linspace(0.25, 1, 4)) # find q1-q10\n",
    "print(\"Quartiles: {}\".format(quar_2))\n",
    "\n",
    "deci = np.quantile(df['purchase_price'], [0.1, 0.2, 0.3, 0.4, 0.5, 0.6, 0.7, 0.8, 0.9, 1]) # find q1-q10\n",
    "print(\"Deciles: {}\".format(deci))\n",
    "deci_2 = np.quantile(df['purchase_price'], np.linspace(0.1, 1, 10)) # find q1-q10\n",
    "print(\"Deciles: {}\".format(deci_2))"
   ]
  },
  {
   "cell_type": "markdown",
   "metadata": {},
   "source": [
    "## Interquartile Range (IQR)"
   ]
  },
  {
   "cell_type": "code",
   "execution_count": 20,
   "metadata": {},
   "outputs": [
    {
     "name": "stdout",
     "output_type": "stream",
     "text": [
      "IQR: 10000.0\n"
     ]
    }
   ],
   "source": [
    "# method 1\n",
    "iqr = np.quantile(df['purchase_price'], 0.75) - np.quantile(df['purchase_price'], 0.25) # find the IQR\n",
    "print(\"IQR: {}\".format(iqr))"
   ]
  },
  {
   "cell_type": "code",
   "execution_count": 21,
   "metadata": {},
   "outputs": [
    {
     "name": "stdout",
     "output_type": "stream",
     "text": [
      "IQR: 10000.0\n"
     ]
    }
   ],
   "source": [
    "# method 2\n",
    "iqr = stats.iqr(df['purchase_price']) # find the IQR\n",
    "print(\"IQR: {}\".format(iqr))"
   ]
  },
  {
   "cell_type": "markdown",
   "metadata": {},
   "source": [
    "## Outliers"
   ]
  },
  {
   "cell_type": "code",
   "execution_count": 22,
   "metadata": {},
   "outputs": [
    {
     "name": "stdout",
     "output_type": "stream",
     "text": [
      "IQR: 10000.0\n",
      "Lower Threshold: -2499.0\n",
      "Upper Threshold: 37501.0\n"
     ]
    }
   ],
   "source": [
    "## find any outliers\n",
    "iqr = stats.iqr(df['purchase_price'])\n",
    "print(\"IQR: {}\".format(iqr))\n",
    "lower = np.quantile(df['purchase_price'], 0.25) - (1.5 * iqr)\n",
    "print(\"Lower Threshold: {}\".format(lower))\n",
    "upper = np.quantile(df['purchase_price'], 0.75) + (1.5 * iqr) \n",
    "print(\"Upper Threshold: {}\".format(upper)) "
   ]
  },
  {
   "cell_type": "markdown",
   "metadata": {},
   "source": [
    "# Summary Statistics"
   ]
  },
  {
   "cell_type": "code",
   "execution_count": 23,
   "metadata": {},
   "outputs": [
    {
     "name": "stdout",
     "output_type": "stream",
     "text": [
      "count    355874.000000\n",
      "mean      19241.313979\n",
      "std        7425.522232\n",
      "min           0.000000\n",
      "25%       12501.000000\n",
      "50%       17501.000000\n",
      "75%       22501.000000\n",
      "max       92501.000000\n",
      "Name: purchase_price, dtype: float64\n"
     ]
    }
   ],
   "source": [
    "summary = df['purchase_price'].describe()\n",
    "print(summary) "
   ]
  },
  {
   "cell_type": "markdown",
   "metadata": {},
   "source": [
    "# Random Sampling"
   ]
  },
  {
   "cell_type": "code",
   "execution_count": 24,
   "metadata": {},
   "outputs": [
    {
     "name": "stdout",
     "output_type": "stream",
     "text": [
      "Random Sample Value: 177238    35\n",
      "Name: customer_age, dtype: int64\n"
     ]
    }
   ],
   "source": [
    "# method 1\n",
    "sample = df['customer_age'].sample() # generating a random sample from data set\n",
    "print(\"Random Sample Value: {}\".format(sample)) "
   ]
  },
  {
   "cell_type": "code",
   "execution_count": 25,
   "metadata": {},
   "outputs": [
    {
     "name": "stdout",
     "output_type": "stream",
     "text": [
      "Random Sample Value: 177238    35\n",
      "Name: customer_age, dtype: int64\n"
     ]
    }
   ],
   "source": [
    "# method 2\n",
    "np.random.seed(sample) \n",
    "print(\"Random Sample Value: {}\".format(sample.sample())) # generating a random sample from data set"
   ]
  },
  {
   "cell_type": "code",
   "execution_count": 26,
   "metadata": {},
   "outputs": [
    {
     "name": "stdout",
     "output_type": "stream",
     "text": [
      "39386     55\n",
      "230737    25\n",
      "Name: customer_age, dtype: int64\n"
     ]
    }
   ],
   "source": [
    "samps_wout_rplcmnt = df['customer_age'].sample(2) # sampling without replacement\n",
    "print(samps_wout_rplcmnt)"
   ]
  },
  {
   "cell_type": "code",
   "execution_count": 27,
   "metadata": {},
   "outputs": [
    {
     "name": "stdout",
     "output_type": "stream",
     "text": [
      "71140     55\n",
      "79236     25\n",
      "123125    35\n",
      "187767    35\n",
      "201379    35\n",
      "Name: customer_age, dtype: int64\n"
     ]
    }
   ],
   "source": [
    "samps_wth_rplcmnt = df['customer_age'].sample(5, replace=True)  # sampling with replacement \n",
    "print(samps_wth_rplcmnt) "
   ]
  }
 ],
 "metadata": {
  "interpreter": {
   "hash": "270e48d7d833aa9f6e241cd7baab00f55729dc9b87acb79557571c94ce8b6154"
  },
  "kernelspec": {
   "display_name": "Python 3.8.5 64-bit ('base': conda)",
   "name": "python3"
  },
  "language_info": {
   "codemirror_mode": {
    "name": "ipython",
    "version": 3
   },
   "file_extension": ".py",
   "mimetype": "text/x-python",
   "name": "python",
   "nbconvert_exporter": "python",
   "pygments_lexer": "ipython3",
   "version": "3.8.5"
  },
  "orig_nbformat": 4
 },
 "nbformat": 4,
 "nbformat_minor": 2
}
